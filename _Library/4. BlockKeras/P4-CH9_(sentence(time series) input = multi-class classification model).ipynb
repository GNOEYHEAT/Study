{
 "cells": [
  {
   "cell_type": "markdown",
   "metadata": {},
   "source": [
    "* Data Set"
   ]
  },
  {
   "cell_type": "code",
   "execution_count": 1,
   "metadata": {
    "scrolled": true
   },
   "outputs": [
    {
     "name": "stderr",
     "output_type": "stream",
     "text": [
      "Using TensorFlow backend.\n"
     ]
    }
   ],
   "source": [
    "from keras.datasets import reuters\n",
    "(x_train, y_train), (x_test, y_test) = reuters.load_data(num_words=15000)"
   ]
  },
  {
   "cell_type": "code",
   "execution_count": 2,
   "metadata": {},
   "outputs": [],
   "source": [
    "x_val = x_train[7000:]\n",
    "y_val = y_train[7000:]\n",
    "x_train = x_train[:7000]\n",
    "y_train = y_train[:7000]"
   ]
  },
  {
   "cell_type": "code",
   "execution_count": 3,
   "metadata": {},
   "outputs": [],
   "source": [
    "from keras.preprocessing import sequence\n",
    "\n",
    "x_train = sequence.pad_sequences(x_train, maxlen=120)\n",
    "x_val = sequence.pad_sequences(x_val, maxlen=120)\n",
    "x_test = sequence.pad_sequences(x_test, maxlen=120)"
   ]
  },
  {
   "cell_type": "markdown",
   "metadata": {},
   "source": [
    "### 다층퍼셉트론 신경망 모델"
   ]
  },
  {
   "cell_type": "code",
   "execution_count": 4,
   "metadata": {},
   "outputs": [
    {
     "name": "stdout",
     "output_type": "stream",
     "text": [
      "Train on 7000 samples, validate on 1982 samples\n",
      "Epoch 1/10\n",
      "7000/7000 [==============================] - 2s 348us/step - loss: 1.9282 - acc: 0.5293 - val_loss: 1.4434 - val_acc: 0.6620\n",
      "Epoch 2/10\n",
      "7000/7000 [==============================] - 1s 125us/step - loss: 0.8415 - acc: 0.8094 - val_loss: 1.2950 - val_acc: 0.7033\n",
      "Epoch 3/10\n",
      "7000/7000 [==============================] - 1s 126us/step - loss: 0.2823 - acc: 0.9506 - val_loss: 1.3359 - val_acc: 0.7003\n",
      "Epoch 4/10\n",
      "7000/7000 [==============================] - 1s 124us/step - loss: 0.1887 - acc: 0.9606 - val_loss: 1.3617 - val_acc: 0.6948\n",
      "Epoch 5/10\n",
      "7000/7000 [==============================] - 1s 125us/step - loss: 0.1513 - acc: 0.9620 - val_loss: 1.3310 - val_acc: 0.7008\n",
      "Epoch 6/10\n",
      "7000/7000 [==============================] - 1s 123us/step - loss: 0.1360 - acc: 0.9617 - val_loss: 1.3416 - val_acc: 0.7028\n",
      "Epoch 7/10\n",
      "7000/7000 [==============================] - 1s 123us/step - loss: 0.1234 - acc: 0.9619 - val_loss: 1.4071 - val_acc: 0.6902\n",
      "Epoch 8/10\n",
      "7000/7000 [==============================] - 1s 123us/step - loss: 0.1126 - acc: 0.9636 - val_loss: 1.3526 - val_acc: 0.7018\n",
      "Epoch 9/10\n",
      "7000/7000 [==============================] - 1s 123us/step - loss: 0.1006 - acc: 0.9629 - val_loss: 1.3951 - val_acc: 0.7033\n",
      "Epoch 10/10\n",
      "7000/7000 [==============================] - 1s 125us/step - loss: 0.0943 - acc: 0.9644 - val_loss: 1.3920 - val_acc: 0.7038\n"
     ]
    },
    {
     "data": {
      "image/png": "[encoded data removed]",
      "text/plain": [
       "<Figure size 432x288 with 2 Axes>"
      ]
     },
     "metadata": {},
     "output_type": "display_data"
    },
    {
     "name": "stdout",
     "output_type": "stream",
     "text": [
      "2246/2246 [==============================] - 0s 20us/step\n",
      "## evaluation loss and_metrics ##\n",
      "[1.4161921831930946, 0.6976847729296527]\n"
     ]
    }
   ],
   "source": [
    "# 0. 사용할 패키지 불러오기\n",
    "from keras.datasets import reuters\n",
    "from keras.utils import np_utils\n",
    "from keras.preprocessing import sequence\n",
    "from keras.models import Sequential\n",
    "from keras.layers import Dense, Embedding\n",
    "from keras.layers import Flatten\n",
    "\n",
    "max_features = 15000\n",
    "text_max_words = 120\n",
    "\n",
    "# 1. 데이터셋 생성하기\n",
    "\n",
    "# 훈련셋과 시험셋 불러오기\n",
    "(x_train, y_train), (x_test, y_test) = reuters.load_data(num_words=max_features)\n",
    "\n",
    "# 훈련셋과 검증셋 분리\n",
    "x_val = x_train[7000:]\n",
    "y_val = y_train[7000:]\n",
    "x_train = x_train[:7000]\n",
    "y_train = y_train[:7000]\n",
    "\n",
    "# 데이터셋 전처리 : 문장 길이 맞추기\n",
    "x_train = sequence.pad_sequences(x_train, maxlen=text_max_words)\n",
    "x_val = sequence.pad_sequences(x_val, maxlen=text_max_words)\n",
    "x_test = sequence.pad_sequences(x_test, maxlen=text_max_words)\n",
    "\n",
    "# one-hot 인코딩\n",
    "y_train = np_utils.to_categorical(y_train)\n",
    "y_val = np_utils.to_categorical(y_val)\n",
    "y_test = np_utils.to_categorical(y_test)\n",
    "\n",
    "# 2. 모델 구성하기\n",
    "model = Sequential()\n",
    "model.add(Embedding(max_features, 128, input_length=text_max_words))\n",
    "model.add(Flatten())\n",
    "model.add(Dense(256, activation='relu'))\n",
    "model.add(Dense(46, activation='softmax'))\n",
    "\n",
    "# 3. 모델 학습과정 설정하기\n",
    "model.compile(loss='categorical_crossentropy', optimizer='adam', metrics=['accuracy'])\n",
    "\n",
    "# 4. 모델 학습시키기\n",
    "hist = model.fit(x_train, y_train, epochs=10, batch_size=64, validation_data=(x_val, y_val))\n",
    "\n",
    "# 5. 학습과정 살펴보기\n",
    "%matplotlib inline\n",
    "import matplotlib.pyplot as plt\n",
    "\n",
    "fig, loss_ax = plt.subplots()\n",
    "\n",
    "acc_ax = loss_ax.twinx()\n",
    "\n",
    "loss_ax.plot(hist.history['loss'], 'y', label='train loss')\n",
    "loss_ax.plot(hist.history['val_loss'], 'r', label='val loss')\n",
    "loss_ax.set_ylim([0.0, 3.0])\n",
    "\n",
    "acc_ax.plot(hist.history['acc'], 'b', label='train acc')\n",
    "acc_ax.plot(hist.history['val_acc'], 'g', label='val acc')\n",
    "acc_ax.set_ylim([0.0, 1.0])\n",
    "\n",
    "loss_ax.set_xlabel('epoch')\n",
    "loss_ax.set_ylabel('loss')\n",
    "acc_ax.set_ylabel('accuray')\n",
    "\n",
    "loss_ax.legend(loc='upper left')\n",
    "acc_ax.legend(loc='lower left')\n",
    "\n",
    "plt.show()\n",
    "\n",
    "# 6. 모델 평가하기\n",
    "loss_and_metrics = model.evaluate(x_test, y_test, batch_size=64)\n",
    "print('## evaluation loss and_metrics ##')\n",
    "print(loss_and_metrics)"
   ]
  },
  {
   "cell_type": "markdown",
   "metadata": {},
   "source": [
    "### 순환 신경망 모델"
   ]
  },
  {
   "cell_type": "code",
   "execution_count": 5,
   "metadata": {},
   "outputs": [
    {
     "name": "stdout",
     "output_type": "stream",
     "text": [
      "Train on 7000 samples, validate on 1982 samples\n",
      "Epoch 1/10\n",
      "7000/7000 [==============================] - 15s 2ms/step - loss: 2.4979 - acc: 0.3870 - val_loss: 2.0377 - val_acc: 0.4945\n",
      "Epoch 2/10\n",
      "7000/7000 [==============================] - 14s 2ms/step - loss: 1.9168 - acc: 0.5099 - val_loss: 1.7049 - val_acc: 0.5555\n",
      "Epoch 3/10\n",
      "7000/7000 [==============================] - 15s 2ms/step - loss: 1.6865 - acc: 0.5649 - val_loss: 1.6549 - val_acc: 0.5686\n",
      "Epoch 4/10\n",
      "7000/7000 [==============================] - 14s 2ms/step - loss: 1.5254 - acc: 0.6087 - val_loss: 1.5948 - val_acc: 0.5827\n",
      "Epoch 5/10\n",
      "7000/7000 [==============================] - 15s 2ms/step - loss: 1.3805 - acc: 0.6407 - val_loss: 1.4732 - val_acc: 0.6236\n",
      "Epoch 6/10\n",
      "7000/7000 [==============================] - 14s 2ms/step - loss: 1.1067 - acc: 0.7129 - val_loss: 1.3618 - val_acc: 0.6776\n",
      "Epoch 7/10\n",
      "7000/7000 [==============================] - 15s 2ms/step - loss: 0.8780 - acc: 0.7714 - val_loss: 1.3689 - val_acc: 0.6781\n",
      "Epoch 8/10\n",
      "7000/7000 [==============================] - 14s 2ms/step - loss: 0.7300 - acc: 0.8091 - val_loss: 1.4089 - val_acc: 0.6680\n",
      "Epoch 9/10\n",
      "7000/7000 [==============================] - 14s 2ms/step - loss: 0.5829 - acc: 0.8507 - val_loss: 1.5029 - val_acc: 0.6791\n",
      "Epoch 10/10\n",
      "7000/7000 [==============================] - 14s 2ms/step - loss: 0.4880 - acc: 0.8787 - val_loss: 1.5152 - val_acc: 0.6872\n"
     ]
    },
    {
     "data": {
      "image/png": "[encoded data removed]",
      "text/plain": [
       "<Figure size 432x288 with 2 Axes>"
      ]
     },
     "metadata": {},
     "output_type": "display_data"
    },
    {
     "name": "stdout",
     "output_type": "stream",
     "text": [
      "2246/2246 [==============================] - 1s 394us/step\n",
      "## evaluation loss and_metrics ##\n",
      "[1.6265962635526037, 0.660284951077119]\n"
     ]
    }
   ],
   "source": [
    "# 0. 사용할 패키지 불러오기\n",
    "from keras.datasets import reuters\n",
    "from keras.utils import np_utils\n",
    "from keras.preprocessing import sequence\n",
    "from keras.models import Sequential\n",
    "from keras.layers import Dense, Embedding, LSTM\n",
    "from keras.layers import Flatten\n",
    "\n",
    "max_features = 15000\n",
    "text_max_words = 120\n",
    "\n",
    "# 1. 데이터셋 생성하기\n",
    "\n",
    "# 훈련셋과 시험셋 불러오기\n",
    "(x_train, y_train), (x_test, y_test) = reuters.load_data(num_words=max_features)\n",
    "\n",
    "# 훈련셋과 검증셋 분리\n",
    "x_val = x_train[7000:]\n",
    "y_val = y_train[7000:]\n",
    "x_train = x_train[:7000]\n",
    "y_train = y_train[:7000]\n",
    "\n",
    "# 데이터셋 전처리 : 문장 길이 맞추기\n",
    "x_train = sequence.pad_sequences(x_train, maxlen=text_max_words)\n",
    "x_val = sequence.pad_sequences(x_val, maxlen=text_max_words)\n",
    "x_test = sequence.pad_sequences(x_test, maxlen=text_max_words)\n",
    "\n",
    "# one-hot 인코딩\n",
    "y_train = np_utils.to_categorical(y_train)\n",
    "y_val = np_utils.to_categorical(y_val)\n",
    "y_test = np_utils.to_categorical(y_test)\n",
    "\n",
    "# 2. 모델 구성하기\n",
    "model = Sequential()\n",
    "model.add(Embedding(max_features, 128))\n",
    "model.add(LSTM(128))\n",
    "model.add(Dense(46, activation='softmax'))\n",
    "\n",
    "# 3. 모델 학습과정 설정하기\n",
    "model.compile(loss='categorical_crossentropy', optimizer='adam', metrics=['accuracy'])\n",
    "\n",
    "# 4. 모델 학습시키기\n",
    "hist = model.fit(x_train, y_train, epochs=10, batch_size=64, validation_data=(x_val, y_val))\n",
    "\n",
    "# 5. 학습과정 살펴보기\n",
    "%matplotlib inline\n",
    "import matplotlib.pyplot as plt\n",
    "\n",
    "fig, loss_ax = plt.subplots()\n",
    "\n",
    "acc_ax = loss_ax.twinx()\n",
    "\n",
    "loss_ax.plot(hist.history['loss'], 'y', label='train loss')\n",
    "loss_ax.plot(hist.history['val_loss'], 'r', label='val loss')\n",
    "loss_ax.set_ylim([0.0, 3.0])\n",
    "\n",
    "acc_ax.plot(hist.history['acc'], 'b', label='train acc')\n",
    "acc_ax.plot(hist.history['val_acc'], 'g', label='val acc')\n",
    "acc_ax.set_ylim([0.0, 1.0])\n",
    "\n",
    "loss_ax.set_xlabel('epoch')\n",
    "loss_ax.set_ylabel('loss')\n",
    "acc_ax.set_ylabel('accuray')\n",
    "\n",
    "loss_ax.legend(loc='upper left')\n",
    "acc_ax.legend(loc='lower left')\n",
    "\n",
    "plt.show()\n",
    "\n",
    "# 6. 모델 평가하기\n",
    "loss_and_metrics = model.evaluate(x_test, y_test, batch_size=64)\n",
    "print('## evaluation loss and_metrics ##')\n",
    "print(loss_and_metrics)"
   ]
  },
  {
   "cell_type": "markdown",
   "metadata": {},
   "source": [
    "### 컨볼루션 신경망 모델"
   ]
  },
  {
   "cell_type": "code",
   "execution_count": 6,
   "metadata": {},
   "outputs": [
    {
     "name": "stdout",
     "output_type": "stream",
     "text": [
      "Train on 7000 samples, validate on 1982 samples\n",
      "Epoch 1/10\n",
      "7000/7000 [==============================] - 2s 277us/step - loss: 2.2766 - acc: 0.4520 - val_loss: 1.7543 - val_acc: 0.5283\n",
      "Epoch 2/10\n",
      "7000/7000 [==============================] - 1s 108us/step - loss: 1.5765 - acc: 0.6219 - val_loss: 1.3442 - val_acc: 0.6887\n",
      "Epoch 3/10\n",
      "7000/7000 [==============================] - 1s 108us/step - loss: 1.2354 - acc: 0.7054 - val_loss: 1.1898 - val_acc: 0.7185\n",
      "Epoch 4/10\n",
      "7000/7000 [==============================] - 1s 108us/step - loss: 0.9891 - acc: 0.7596 - val_loss: 1.0822 - val_acc: 0.7513\n",
      "Epoch 5/10\n",
      "7000/7000 [==============================] - 1s 108us/step - loss: 0.7674 - acc: 0.8127 - val_loss: 1.0440 - val_acc: 0.7563\n",
      "Epoch 6/10\n",
      "7000/7000 [==============================] - 1s 109us/step - loss: 0.5894 - acc: 0.8493 - val_loss: 1.0299 - val_acc: 0.7624\n",
      "Epoch 7/10\n",
      "7000/7000 [==============================] - 1s 109us/step - loss: 0.4491 - acc: 0.8856 - val_loss: 1.0944 - val_acc: 0.7568\n",
      "Epoch 8/10\n",
      "7000/7000 [==============================] - 1s 108us/step - loss: 0.3436 - acc: 0.9093 - val_loss: 1.1209 - val_acc: 0.7654\n",
      "Epoch 9/10\n",
      "7000/7000 [==============================] - 1s 108us/step - loss: 0.2690 - acc: 0.9320 - val_loss: 1.1696 - val_acc: 0.7669\n",
      "Epoch 10/10\n",
      "7000/7000 [==============================] - 1s 108us/step - loss: 0.2287 - acc: 0.9419 - val_loss: 1.2002 - val_acc: 0.7593\n"
     ]
    },
    {
     "data": {
      "image/png": "[encoded data removed]",
      "text/plain": [
       "<Figure size 432x288 with 2 Axes>"
      ]
     },
     "metadata": {},
     "output_type": "display_data"
    },
    {
     "name": "stdout",
     "output_type": "stream",
     "text": [
      "2246/2246 [==============================] - 0s 23us/step\n",
      "## evaluation loss and_metrics ##\n",
      "[1.2465435719766047, 0.7595725734639359]\n"
     ]
    }
   ],
   "source": [
    "# 0. 사용할 패키지 불러오기\n",
    "from keras.datasets import reuters\n",
    "from keras.utils import np_utils\n",
    "from keras.preprocessing import sequence\n",
    "from keras.models import Sequential\n",
    "from keras.layers import Dense, Embedding, LSTM\n",
    "from keras.layers import Flatten, Dropout\n",
    "from keras.layers import Conv1D, GlobalMaxPooling1D\n",
    "\n",
    "max_features = 15000\n",
    "text_max_words = 120\n",
    "\n",
    "# 1. 데이터셋 생성하기\n",
    "\n",
    "# 훈련셋과 시험셋 불러오기\n",
    "(x_train, y_train), (x_test, y_test) = reuters.load_data(num_words=max_features)\n",
    "\n",
    "# 훈련셋과 검증셋 분리\n",
    "x_val = x_train[7000:]\n",
    "y_val = y_train[7000:]\n",
    "x_train = x_train[:7000]\n",
    "y_train = y_train[:7000]\n",
    "\n",
    "# 데이터셋 전처리 : 문장 길이 맞추기\n",
    "x_train = sequence.pad_sequences(x_train, maxlen=text_max_words)\n",
    "x_val = sequence.pad_sequences(x_val, maxlen=text_max_words)\n",
    "x_test = sequence.pad_sequences(x_test, maxlen=text_max_words)\n",
    "\n",
    "# one-hot 인코딩\n",
    "y_train = np_utils.to_categorical(y_train)\n",
    "y_val = np_utils.to_categorical(y_val)\n",
    "y_test = np_utils.to_categorical(y_test)\n",
    "\n",
    "# 2. 모델 구성하기\n",
    "model = Sequential()\n",
    "model.add(Embedding(max_features, 128, input_length=text_max_words))\n",
    "model.add(Dropout(0.2))\n",
    "model.add(Conv1D(256,\n",
    "                 3,\n",
    "                 padding='valid',\n",
    "                 activation='relu',\n",
    "                 strides=1))\n",
    "model.add(GlobalMaxPooling1D())\n",
    "model.add(Dense(128, activation='relu'))\n",
    "model.add(Dropout(0.2))\n",
    "model.add(Dense(46, activation='softmax'))\n",
    "\n",
    "# 3. 모델 학습과정 설정하기\n",
    "model.compile(loss='categorical_crossentropy', optimizer='adam', metrics=['accuracy'])\n",
    "\n",
    "# 4. 모델 학습시키기\n",
    "hist = model.fit(x_train, y_train, epochs=10, batch_size=64, validation_data=(x_val, y_val))\n",
    "\n",
    "# 5. 학습과정 살펴보기\n",
    "%matplotlib inline\n",
    "import matplotlib.pyplot as plt\n",
    "\n",
    "fig, loss_ax = plt.subplots()\n",
    "\n",
    "acc_ax = loss_ax.twinx()\n",
    "\n",
    "loss_ax.plot(hist.history['loss'], 'y', label='train loss')\n",
    "loss_ax.plot(hist.history['val_loss'], 'r', label='val loss')\n",
    "loss_ax.set_ylim([0.0, 3.0])\n",
    "\n",
    "acc_ax.plot(hist.history['acc'], 'b', label='train acc')\n",
    "acc_ax.plot(hist.history['val_acc'], 'g', label='val acc')\n",
    "acc_ax.set_ylim([0.0, 1.0])\n",
    "\n",
    "loss_ax.set_xlabel('epoch')\n",
    "loss_ax.set_ylabel('loss')\n",
    "acc_ax.set_ylabel('accuray')\n",
    "\n",
    "loss_ax.legend(loc='upper left')\n",
    "acc_ax.legend(loc='lower left')\n",
    "\n",
    "plt.show()\n",
    "\n",
    "# 6. 모델 평가하기\n",
    "loss_and_metrics = model.evaluate(x_test, y_test, batch_size=64)\n",
    "print('## evaluation loss and_metrics ##')\n",
    "print(loss_and_metrics)"
   ]
  },
  {
   "cell_type": "markdown",
   "metadata": {},
   "source": [
    "### 순환 컨볼루션 신경망 모델"
   ]
  },
  {
   "cell_type": "code",
   "execution_count": 7,
   "metadata": {},
   "outputs": [
    {
     "name": "stdout",
     "output_type": "stream",
     "text": [
      "Train on 7000 samples, validate on 1982 samples\n",
      "Epoch 1/10\n",
      "7000/7000 [==============================] - 6s 874us/step - loss: 2.1643 - acc: 0.4443 - val_loss: 1.7052 - val_acc: 0.5414\n",
      "Epoch 2/10\n",
      "7000/7000 [==============================] - 5s 739us/step - loss: 1.6025 - acc: 0.5841 - val_loss: 1.4873 - val_acc: 0.6186\n",
      "Epoch 3/10\n",
      "7000/7000 [==============================] - 5s 742us/step - loss: 1.3128 - acc: 0.6637 - val_loss: 1.3432 - val_acc: 0.6655\n",
      "Epoch 4/10\n",
      "7000/7000 [==============================] - 5s 741us/step - loss: 1.0514 - acc: 0.7371 - val_loss: 1.2735 - val_acc: 0.6831\n",
      "Epoch 5/10\n",
      "7000/7000 [==============================] - 5s 743us/step - loss: 0.8299 - acc: 0.7913 - val_loss: 1.2642 - val_acc: 0.7008\n",
      "Epoch 6/10\n",
      "7000/7000 [==============================] - 5s 744us/step - loss: 0.6721 - acc: 0.8267 - val_loss: 1.2987 - val_acc: 0.7109\n",
      "Epoch 7/10\n",
      "7000/7000 [==============================] - 5s 743us/step - loss: 0.5601 - acc: 0.8580 - val_loss: 1.3486 - val_acc: 0.7028\n",
      "Epoch 8/10\n",
      "7000/7000 [==============================] - 5s 742us/step - loss: 0.4703 - acc: 0.8807 - val_loss: 1.3765 - val_acc: 0.7124\n",
      "Epoch 9/10\n",
      "7000/7000 [==============================] - 5s 742us/step - loss: 0.3894 - acc: 0.9039 - val_loss: 1.3877 - val_acc: 0.7144\n",
      "Epoch 10/10\n",
      "7000/7000 [==============================] - 5s 736us/step - loss: 0.3315 - acc: 0.9157 - val_loss: 1.4501 - val_acc: 0.7175\n"
     ]
    },
    {
     "data": {
      "image/png": "[encoded data removed]",
      "text/plain": [
       "<Figure size 432x288 with 2 Axes>"
      ]
     },
     "metadata": {},
     "output_type": "display_data"
    },
    {
     "name": "stdout",
     "output_type": "stream",
     "text": [
      "2246/2246 [==============================] - 1s 240us/step\n",
      "## evaluation loss and_metrics ##\n",
      "[1.4898979060902515, 0.692787177203918]\n"
     ]
    }
   ],
   "source": [
    "# 0. 사용할 패키지 불러오기\n",
    "from keras.datasets import reuters\n",
    "from keras.utils import np_utils\n",
    "from keras.preprocessing import sequence\n",
    "from keras.models import Sequential\n",
    "from keras.layers import Dense, Embedding, LSTM\n",
    "from keras.layers import Flatten, Dropout\n",
    "from keras.layers import Conv1D, MaxPooling1D\n",
    "\n",
    "max_features = 15000\n",
    "text_max_words = 120\n",
    "\n",
    "# 1. 데이터셋 생성하기\n",
    "\n",
    "# 훈련셋과 시험셋 불러오기\n",
    "(x_train, y_train), (x_test, y_test) = reuters.load_data(num_words=max_features)\n",
    "\n",
    "# 훈련셋과 검증셋 분리\n",
    "x_val = x_train[7000:]\n",
    "y_val = y_train[7000:]\n",
    "x_train = x_train[:7000]\n",
    "y_train = y_train[:7000]\n",
    "\n",
    "# 데이터셋 전처리 : 문장 길이 맞추기\n",
    "x_train = sequence.pad_sequences(x_train, maxlen=text_max_words)\n",
    "x_val = sequence.pad_sequences(x_val, maxlen=text_max_words)\n",
    "x_test = sequence.pad_sequences(x_test, maxlen=text_max_words)\n",
    "\n",
    "# one-hot 인코딩\n",
    "y_train = np_utils.to_categorical(y_train)\n",
    "y_val = np_utils.to_categorical(y_val)\n",
    "y_test = np_utils.to_categorical(y_test)\n",
    "\n",
    "# 2. 모델 구성하기\n",
    "model = Sequential()\n",
    "model.add(Embedding(max_features, 128, input_length=text_max_words))\n",
    "model.add(Dropout(0.2))\n",
    "model.add(Conv1D(256,\n",
    "                 3,\n",
    "                 padding='valid',\n",
    "                 activation='relu',\n",
    "                 strides=1))\n",
    "model.add(MaxPooling1D(pool_size=4))\n",
    "model.add(LSTM(128))\n",
    "model.add(Dense(46, activation='softmax'))\n",
    "\n",
    "# 3. 모델 학습과정 설정하기\n",
    "model.compile(loss='categorical_crossentropy', optimizer='adam', metrics=['accuracy'])\n",
    "\n",
    "# 4. 모델 학습시키기\n",
    "hist = model.fit(x_train, y_train, epochs=10, batch_size=64, validation_data=(x_val, y_val))\n",
    "\n",
    "# 5. 학습과정 살펴보기\n",
    "%matplotlib inline\n",
    "import matplotlib.pyplot as plt\n",
    "\n",
    "fig, loss_ax = plt.subplots()\n",
    "\n",
    "acc_ax = loss_ax.twinx()\n",
    "\n",
    "loss_ax.plot(hist.history['loss'], 'y', label='train loss')\n",
    "loss_ax.plot(hist.history['val_loss'], 'r', label='val loss')\n",
    "loss_ax.set_ylim([0.0, 3.0])\n",
    "\n",
    "acc_ax.plot(hist.history['acc'], 'b', label='train acc')\n",
    "acc_ax.plot(hist.history['val_acc'], 'g', label='val acc')\n",
    "acc_ax.set_ylim([0.0, 1.0])\n",
    "\n",
    "loss_ax.set_xlabel('epoch')\n",
    "loss_ax.set_ylabel('loss')\n",
    "acc_ax.set_ylabel('accuray')\n",
    "\n",
    "loss_ax.legend(loc='upper left')\n",
    "acc_ax.legend(loc='lower left')\n",
    "\n",
    "plt.show()\n",
    "\n",
    "# 6. 모델 평가하기\n",
    "loss_and_metrics = model.evaluate(x_test, y_test, batch_size=64)\n",
    "print('## evaluation loss and_metrics ##')\n",
    "print(loss_and_metrics)"
   ]
  }
 ],
 "metadata": {
  "kernelspec": {
   "display_name": "Python 3",
   "language": "python",
   "name": "python3"
  },
  "language_info": {
   "codemirror_mode": {
    "name": "ipython",
    "version": 3
   },
   "file_extension": ".py",
   "mimetype": "text/x-python",
   "name": "python",
   "nbconvert_exporter": "python",
   "pygments_lexer": "ipython3",
   "version": "3.5.5"
  }
 },
 "nbformat": 4,
 "nbformat_minor": 2
}
