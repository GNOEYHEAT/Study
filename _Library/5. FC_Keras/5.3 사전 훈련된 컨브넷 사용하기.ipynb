{
 "cells": [
  {
   "cell_type": "markdown",
   "metadata": {},
   "source": [
    "## 5.3.1 특성 추출 "
   ]
  },
  {
   "cell_type": "markdown",
   "metadata": {},
   "source": [
    "### 5-16 VGG16 합성곱 기반 층 만들기 "
   ]
  },
  {
   "cell_type": "code",
   "execution_count": 1,
   "metadata": {},
   "outputs": [
    {
     "name": "stderr",
     "output_type": "stream",
     "text": [
      "Using TensorFlow backend.\n"
     ]
    }
   ],
   "source": [
    "from keras.applications import VGG16\n",
    "\n",
    "conv_base = VGG16(weights='imagenet',\n",
    "                 include_top=False,\n",
    "                 input_shape=(150, 150, 3))"
   ]
  },
  {
   "cell_type": "code",
   "execution_count": 2,
   "metadata": {},
   "outputs": [
    {
     "name": "stdout",
     "output_type": "stream",
     "text": [
      "Model: \"vgg16\"\n",
      "_________________________________________________________________\n",
      "Layer (type)                 Output Shape              Param #   \n",
      "=================================================================\n",
      "input_1 (InputLayer)         (None, 150, 150, 3)       0         \n",
      "_________________________________________________________________\n",
      "block1_conv1 (Conv2D)        (None, 150, 150, 64)      1792      \n",
      "_________________________________________________________________\n",
      "block1_conv2 (Conv2D)        (None, 150, 150, 64)      36928     \n",
      "_________________________________________________________________\n",
      "block1_pool (MaxPooling2D)   (None, 75, 75, 64)        0         \n",
      "_________________________________________________________________\n",
      "block2_conv1 (Conv2D)        (None, 75, 75, 128)       73856     \n",
      "_________________________________________________________________\n",
      "block2_conv2 (Conv2D)        (None, 75, 75, 128)       147584    \n",
      "_________________________________________________________________\n",
      "block2_pool (MaxPooling2D)   (None, 37, 37, 128)       0         \n",
      "_________________________________________________________________\n",
      "block3_conv1 (Conv2D)        (None, 37, 37, 256)       295168    \n",
      "_________________________________________________________________\n",
      "block3_conv2 (Conv2D)        (None, 37, 37, 256)       590080    \n",
      "_________________________________________________________________\n",
      "block3_conv3 (Conv2D)        (None, 37, 37, 256)       590080    \n",
      "_________________________________________________________________\n",
      "block3_pool (MaxPooling2D)   (None, 18, 18, 256)       0         \n",
      "_________________________________________________________________\n",
      "block4_conv1 (Conv2D)        (None, 18, 18, 512)       1180160   \n",
      "_________________________________________________________________\n",
      "block4_conv2 (Conv2D)        (None, 18, 18, 512)       2359808   \n",
      "_________________________________________________________________\n",
      "block4_conv3 (Conv2D)        (None, 18, 18, 512)       2359808   \n",
      "_________________________________________________________________\n",
      "block4_pool (MaxPooling2D)   (None, 9, 9, 512)         0         \n",
      "_________________________________________________________________\n",
      "block5_conv1 (Conv2D)        (None, 9, 9, 512)         2359808   \n",
      "_________________________________________________________________\n",
      "block5_conv2 (Conv2D)        (None, 9, 9, 512)         2359808   \n",
      "_________________________________________________________________\n",
      "block5_conv3 (Conv2D)        (None, 9, 9, 512)         2359808   \n",
      "_________________________________________________________________\n",
      "block5_pool (MaxPooling2D)   (None, 4, 4, 512)         0         \n",
      "=================================================================\n",
      "Total params: 14,714,688\n",
      "Trainable params: 14,714,688\n",
      "Non-trainable params: 0\n",
      "_________________________________________________________________\n"
     ]
    }
   ],
   "source": [
    "conv_base.summary()"
   ]
  },
  {
   "cell_type": "markdown",
   "metadata": {},
   "source": [
    "#### 데이터 증식을 사용하지 않는 빠른 특성 추출 "
   ]
  },
  {
   "cell_type": "markdown",
   "metadata": {},
   "source": [
    "### 5-17 사전 훈련된 합성곱 기반 층을 사용한 특성 추출하기 "
   ]
  },
  {
   "cell_type": "code",
   "execution_count": 3,
   "metadata": {},
   "outputs": [
    {
     "name": "stdout",
     "output_type": "stream",
     "text": [
      "Found 2000 images belonging to 2 classes.\n",
      "Found 1000 images belonging to 2 classes.\n",
      "Found 1000 images belonging to 2 classes.\n"
     ]
    }
   ],
   "source": [
    "import os\n",
    "import numpy as np\n",
    "from keras.preprocessing.image import ImageDataGenerator\n",
    "\n",
    "base_dir = './datasets/cats_and_dogs_small'\n",
    "train_dir = os.path.join(base_dir, 'train')\n",
    "validation_dir = os.path.join(base_dir, 'validation')\n",
    "test_dir = os.path.join(base_dir, 'test')\n",
    "\n",
    "datagen = ImageDataGenerator(rescale=1./255)\n",
    "batch_size = 20\n",
    "\n",
    "def extract_features(directory, sample_count):\n",
    "    features = np.zeros(shape=(sample_count, 4, 4, 512))\n",
    "    labels = np.zeros(shape=(sample_count))\n",
    "    generator = datagen.flow_from_directory(\n",
    "        directory,\n",
    "        target_size=(150, 150),\n",
    "        batch_size=batch_size,\n",
    "        class_mode='binary')\n",
    "    i = 0\n",
    "    for inputs_batch, labels_batch in generator:\n",
    "        features_batch = conv_base.predict(inputs_batch)\n",
    "        features[i * batch_size : (i + 1) * batch_size] = features_batch\n",
    "        labels[i * batch_size : (i + 1) * batch_size] = labels_batch\n",
    "        i += 1\n",
    "        if i * batch_size >= sample_count:\n",
    "            break\n",
    "    return features, labels\n",
    "\n",
    "train_features, train_labels = extract_features(train_dir, 2000)\n",
    "validation_features, validation_labels = extract_features(validation_dir, 1000)\n",
    "test_features, test_labels = extract_features(test_dir, 1000)"
   ]
  },
  {
   "cell_type": "code",
   "execution_count": 4,
   "metadata": {},
   "outputs": [],
   "source": [
    "train_features = np.reshape(train_features, (2000, 4 * 4 * 512))\n",
    "validation_features = np.reshape(validation_features, (1000, 4 * 4 * 512))\n",
    "test_features = np.reshape(test_features, (1000, 4 * 4 * 512))"
   ]
  },
  {
   "cell_type": "markdown",
   "metadata": {},
   "source": [
    "### 5-18 완전 연결 분류기를 정의하고 훈련하기 "
   ]
  },
  {
   "cell_type": "code",
   "execution_count": 5,
   "metadata": {},
   "outputs": [
    {
     "name": "stdout",
     "output_type": "stream",
     "text": [
      "Train on 2000 samples, validate on 1000 samples\n",
      "Epoch 1/30\n",
      "2000/2000 [==============================] - 1s 490us/step - loss: 0.5898 - acc: 0.6875 - val_loss: 0.4515 - val_acc: 0.8280\n",
      "Epoch 2/30\n",
      "2000/2000 [==============================] - 1s 269us/step - loss: 0.4280 - acc: 0.8110 - val_loss: 0.3679 - val_acc: 0.8520\n",
      "Epoch 3/30\n",
      "2000/2000 [==============================] - 1s 262us/step - loss: 0.3571 - acc: 0.8485 - val_loss: 0.3272 - val_acc: 0.8740\n",
      "Epoch 4/30\n",
      "2000/2000 [==============================] - 1s 261us/step - loss: 0.3229 - acc: 0.8585 - val_loss: 0.3035 - val_acc: 0.8830\n",
      "Epoch 5/30\n",
      "2000/2000 [==============================] - 1s 263us/step - loss: 0.2902 - acc: 0.8820 - val_loss: 0.2876 - val_acc: 0.8880\n",
      "Epoch 6/30\n",
      "2000/2000 [==============================] - 1s 261us/step - loss: 0.2647 - acc: 0.9015 - val_loss: 0.2750 - val_acc: 0.8910\n",
      "Epoch 7/30\n",
      "2000/2000 [==============================] - 1s 267us/step - loss: 0.2558 - acc: 0.9035 - val_loss: 0.2833 - val_acc: 0.8810\n",
      "Epoch 8/30\n",
      "2000/2000 [==============================] - 1s 262us/step - loss: 0.2372 - acc: 0.9055 - val_loss: 0.2617 - val_acc: 0.8940\n",
      "Epoch 9/30\n",
      "2000/2000 [==============================] - 1s 261us/step - loss: 0.2184 - acc: 0.9205 - val_loss: 0.2629 - val_acc: 0.8830\n",
      "Epoch 10/30\n",
      "2000/2000 [==============================] - 1s 261us/step - loss: 0.2085 - acc: 0.9255 - val_loss: 0.2526 - val_acc: 0.8960\n",
      "Epoch 11/30\n",
      "2000/2000 [==============================] - 1s 261us/step - loss: 0.1948 - acc: 0.9275 - val_loss: 0.2495 - val_acc: 0.8980\n",
      "Epoch 12/30\n",
      "2000/2000 [==============================] - 1s 259us/step - loss: 0.1866 - acc: 0.9325 - val_loss: 0.2474 - val_acc: 0.8980\n",
      "Epoch 13/30\n",
      "2000/2000 [==============================] - 1s 262us/step - loss: 0.1774 - acc: 0.9320 - val_loss: 0.2584 - val_acc: 0.8940\n",
      "Epoch 14/30\n",
      "2000/2000 [==============================] - 1s 260us/step - loss: 0.1740 - acc: 0.9335 - val_loss: 0.2598 - val_acc: 0.8920\n",
      "Epoch 15/30\n",
      "2000/2000 [==============================] - 1s 263us/step - loss: 0.1631 - acc: 0.9395 - val_loss: 0.2447 - val_acc: 0.8990\n",
      "Epoch 16/30\n",
      "2000/2000 [==============================] - 1s 260us/step - loss: 0.1561 - acc: 0.9430 - val_loss: 0.2516 - val_acc: 0.8970\n",
      "Epoch 17/30\n",
      "2000/2000 [==============================] - 1s 267us/step - loss: 0.1523 - acc: 0.9440 - val_loss: 0.2435 - val_acc: 0.9000\n",
      "Epoch 18/30\n",
      "2000/2000 [==============================] - 1s 261us/step - loss: 0.1378 - acc: 0.9550 - val_loss: 0.2383 - val_acc: 0.8990\n",
      "Epoch 19/30\n",
      "2000/2000 [==============================] - 1s 265us/step - loss: 0.1389 - acc: 0.9545 - val_loss: 0.2382 - val_acc: 0.9000\n",
      "Epoch 20/30\n",
      "2000/2000 [==============================] - 1s 267us/step - loss: 0.1334 - acc: 0.9545 - val_loss: 0.2386 - val_acc: 0.8980\n",
      "Epoch 21/30\n",
      "2000/2000 [==============================] - 1s 264us/step - loss: 0.1278 - acc: 0.9605 - val_loss: 0.2431 - val_acc: 0.9010\n",
      "Epoch 22/30\n",
      "2000/2000 [==============================] - 1s 264us/step - loss: 0.1263 - acc: 0.9585 - val_loss: 0.2516 - val_acc: 0.8980\n",
      "Epoch 23/30\n",
      "2000/2000 [==============================] - 1s 261us/step - loss: 0.1169 - acc: 0.9645 - val_loss: 0.2388 - val_acc: 0.8990\n",
      "Epoch 24/30\n",
      "2000/2000 [==============================] - 1s 262us/step - loss: 0.1149 - acc: 0.9645 - val_loss: 0.2410 - val_acc: 0.9030\n",
      "Epoch 25/30\n",
      "2000/2000 [==============================] - 1s 264us/step - loss: 0.1076 - acc: 0.9640 - val_loss: 0.2543 - val_acc: 0.8960\n",
      "Epoch 26/30\n",
      "2000/2000 [==============================] - 1s 265us/step - loss: 0.1040 - acc: 0.9685 - val_loss: 0.2470 - val_acc: 0.8990\n",
      "Epoch 27/30\n",
      "2000/2000 [==============================] - 1s 263us/step - loss: 0.0996 - acc: 0.9710 - val_loss: 0.2482 - val_acc: 0.9000\n",
      "Epoch 28/30\n",
      "2000/2000 [==============================] - 1s 262us/step - loss: 0.0986 - acc: 0.9735 - val_loss: 0.2408 - val_acc: 0.9000\n",
      "Epoch 29/30\n",
      "2000/2000 [==============================] - 1s 263us/step - loss: 0.0970 - acc: 0.9665 - val_loss: 0.2427 - val_acc: 0.9020\n",
      "Epoch 30/30\n",
      "2000/2000 [==============================] - 1s 262us/step - loss: 0.0870 - acc: 0.9750 - val_loss: 0.2454 - val_acc: 0.9010\n"
     ]
    }
   ],
   "source": [
    "from keras import models\n",
    "from keras import layers\n",
    "from keras import optimizers\n",
    "\n",
    "model = models.Sequential()\n",
    "model.add(layers.Dense(256, activation='relu', input_dim=4 * 4 * 512))\n",
    "model.add(layers.Dropout(0.5))\n",
    "model.add(layers.Dense(1, activation='sigmoid'))\n",
    "\n",
    "model.compile(optimizer=optimizers.RMSprop(lr=2e-5),\n",
    "             loss='binary_crossentropy',\n",
    "             metrics=['acc'])\n",
    "\n",
    "history = model.fit(train_features, train_labels,\n",
    "                   epochs=30,\n",
    "                   batch_size=20,\n",
    "                   validation_data=(validation_features, validation_labels))"
   ]
  },
  {
   "cell_type": "markdown",
   "metadata": {},
   "source": [
    "### 5-19 결과 그래프 그리기 "
   ]
  },
  {
   "cell_type": "code",
   "execution_count": 6,
   "metadata": {},
   "outputs": [],
   "source": [
    "%matplotlib inline"
   ]
  },
  {
   "cell_type": "code",
   "execution_count": 7,
   "metadata": {},
   "outputs": [
    {
     "data": {
      "image/png": "[encoded data removed]",
      "text/plain": [
       "<Figure size 432x288 with 1 Axes>"
      ]
     },
     "metadata": {},
     "output_type": "display_data"
    },
    {
     "data": {
      "image/png": "[encoded data removed]",
      "text/plain": [
       "<Figure size 432x288 with 1 Axes>"
      ]
     },
     "metadata": {},
     "output_type": "display_data"
    }
   ],
   "source": [
    "import matplotlib.pyplot as plt\n",
    "\n",
    "acc = history.history['acc']\n",
    "val_acc = history.history['val_acc']\n",
    "loss = history.history['loss']\n",
    "val_loss = history.history['val_loss']\n",
    "\n",
    "epochs = range(1, len(acc) + 1)\n",
    "\n",
    "plt.plot(epochs, acc, 'bo', label='Training acc')\n",
    "plt.plot(epochs, val_acc, 'b', label='Validation acc')\n",
    "plt.title('Training and validation accuracy')\n",
    "plt.legend()\n",
    "\n",
    "plt.figure()\n",
    "\n",
    "plt.plot(epochs, loss, 'bo', label='Training loss')\n",
    "plt.plot(epochs, val_loss, 'b', label='Validation loss')\n",
    "plt.title('Training and validation loss')\n",
    "plt.legend()\n",
    "\n",
    "plt.show()"
   ]
  },
  {
   "cell_type": "markdown",
   "metadata": {},
   "source": [
    "#### 데이터 증식을 사용한 특성 추출 "
   ]
  },
  {
   "cell_type": "markdown",
   "metadata": {},
   "source": [
    "### 5-20 합성곱 기반 층 위에 완전 연결 분류기 추가하기 "
   ]
  },
  {
   "cell_type": "code",
   "execution_count": 8,
   "metadata": {},
   "outputs": [],
   "source": [
    "from keras import models\n",
    "from keras import layers\n",
    "\n",
    "model = models.Sequential()\n",
    "model.add(conv_base)\n",
    "model.add(layers.Flatten())\n",
    "model.add(layers.Dense(256, activation='relu'))\n",
    "model.add(layers.Dense(1, activation='sigmoid'))"
   ]
  },
  {
   "cell_type": "code",
   "execution_count": 9,
   "metadata": {},
   "outputs": [
    {
     "name": "stdout",
     "output_type": "stream",
     "text": [
      "Model: \"sequential_2\"\n",
      "_________________________________________________________________\n",
      "Layer (type)                 Output Shape              Param #   \n",
      "=================================================================\n",
      "vgg16 (Model)                (None, 4, 4, 512)         14714688  \n",
      "_________________________________________________________________\n",
      "flatten_1 (Flatten)          (None, 8192)              0         \n",
      "_________________________________________________________________\n",
      "dense_3 (Dense)              (None, 256)               2097408   \n",
      "_________________________________________________________________\n",
      "dense_4 (Dense)              (None, 1)                 257       \n",
      "=================================================================\n",
      "Total params: 16,812,353\n",
      "Trainable params: 16,812,353\n",
      "Non-trainable params: 0\n",
      "_________________________________________________________________\n"
     ]
    }
   ],
   "source": [
    "model.summary()"
   ]
  },
  {
   "cell_type": "code",
   "execution_count": 10,
   "metadata": {},
   "outputs": [
    {
     "name": "stdout",
     "output_type": "stream",
     "text": [
      "conv_base를 동결하기 전 훈련되는 가중치의 수: 30\n",
      "conv_base를 동결한 후 훈련되는 가중치의 수: 4\n"
     ]
    }
   ],
   "source": [
    "print('conv_base를 동결하기 전 훈련되는 가중치의 수:',\n",
    "     len(model.trainable_weights))\n",
    "conv_base.trainable=False\n",
    "print('conv_base를 동결한 후 훈련되는 가중치의 수:',\n",
    "     len(model.trainable_weights))"
   ]
  },
  {
   "cell_type": "markdown",
   "metadata": {},
   "source": [
    "### 5-21 동결된 합성곱 기반 층과 함께 모델을 엔드-투-엔드로 훈련하기 "
   ]
  },
  {
   "cell_type": "code",
   "execution_count": 11,
   "metadata": {},
   "outputs": [
    {
     "name": "stdout",
     "output_type": "stream",
     "text": [
      "Found 2000 images belonging to 2 classes.\n",
      "Found 1000 images belonging to 2 classes.\n",
      "Epoch 1/30\n",
      " - 13s - loss: 0.6075 - acc: 0.6755 - val_loss: 0.4573 - val_acc: 0.8310\n",
      "Epoch 2/30\n",
      " - 12s - loss: 0.4804 - acc: 0.7875 - val_loss: 0.3885 - val_acc: 0.8280\n",
      "Epoch 3/30\n",
      " - 12s - loss: 0.4413 - acc: 0.7935 - val_loss: 0.3381 - val_acc: 0.8740\n",
      "Epoch 4/30\n",
      " - 12s - loss: 0.4044 - acc: 0.8240 - val_loss: 0.3223 - val_acc: 0.8720\n",
      "Epoch 5/30\n",
      " - 12s - loss: 0.3906 - acc: 0.8255 - val_loss: 0.2981 - val_acc: 0.8840\n",
      "Epoch 6/30\n",
      " - 12s - loss: 0.3696 - acc: 0.8310 - val_loss: 0.2876 - val_acc: 0.8880\n",
      "Epoch 7/30\n",
      " - 12s - loss: 0.3572 - acc: 0.8405 - val_loss: 0.2784 - val_acc: 0.8910\n",
      "Epoch 8/30\n",
      " - 12s - loss: 0.3460 - acc: 0.8515 - val_loss: 0.2769 - val_acc: 0.8900\n",
      "Epoch 9/30\n",
      " - 12s - loss: 0.3376 - acc: 0.8525 - val_loss: 0.2719 - val_acc: 0.8900\n",
      "Epoch 10/30\n",
      " - 12s - loss: 0.3415 - acc: 0.8520 - val_loss: 0.2654 - val_acc: 0.8930\n",
      "Epoch 11/30\n",
      " - 12s - loss: 0.3354 - acc: 0.8570 - val_loss: 0.2741 - val_acc: 0.8840\n",
      "Epoch 12/30\n",
      " - 12s - loss: 0.3167 - acc: 0.8645 - val_loss: 0.2555 - val_acc: 0.8940\n",
      "Epoch 13/30\n",
      " - 12s - loss: 0.3216 - acc: 0.8540 - val_loss: 0.2525 - val_acc: 0.8960\n",
      "Epoch 14/30\n",
      " - 12s - loss: 0.3120 - acc: 0.8615 - val_loss: 0.2555 - val_acc: 0.8950\n",
      "Epoch 15/30\n",
      " - 12s - loss: 0.3176 - acc: 0.8620 - val_loss: 0.2516 - val_acc: 0.8940\n",
      "Epoch 16/30\n",
      " - 12s - loss: 0.3175 - acc: 0.8720 - val_loss: 0.2454 - val_acc: 0.8930\n",
      "Epoch 17/30\n",
      " - 13s - loss: 0.3000 - acc: 0.8760 - val_loss: 0.2514 - val_acc: 0.8920\n",
      "Epoch 18/30\n",
      " - 12s - loss: 0.3090 - acc: 0.8700 - val_loss: 0.2450 - val_acc: 0.8960\n",
      "Epoch 19/30\n",
      " - 12s - loss: 0.3144 - acc: 0.8605 - val_loss: 0.2484 - val_acc: 0.8980\n",
      "Epoch 20/30\n",
      " - 12s - loss: 0.3030 - acc: 0.8670 - val_loss: 0.2427 - val_acc: 0.8970\n",
      "Epoch 21/30\n",
      " - 12s - loss: 0.2917 - acc: 0.8735 - val_loss: 0.2425 - val_acc: 0.9000\n",
      "Epoch 22/30\n",
      " - 12s - loss: 0.3006 - acc: 0.8735 - val_loss: 0.2360 - val_acc: 0.9020\n",
      "Epoch 23/30\n",
      " - 12s - loss: 0.2816 - acc: 0.8770 - val_loss: 0.2345 - val_acc: 0.9020\n",
      "Epoch 24/30\n",
      " - 12s - loss: 0.2855 - acc: 0.8790 - val_loss: 0.2466 - val_acc: 0.9000\n",
      "Epoch 25/30\n",
      " - 13s - loss: 0.2877 - acc: 0.8660 - val_loss: 0.2360 - val_acc: 0.9010\n",
      "Epoch 26/30\n",
      " - 12s - loss: 0.2877 - acc: 0.8730 - val_loss: 0.2333 - val_acc: 0.9060\n",
      "Epoch 27/30\n",
      " - 12s - loss: 0.2811 - acc: 0.8885 - val_loss: 0.2349 - val_acc: 0.9030\n",
      "Epoch 28/30\n",
      " - 12s - loss: 0.2812 - acc: 0.8760 - val_loss: 0.2375 - val_acc: 0.9030\n",
      "Epoch 29/30\n",
      " - 12s - loss: 0.2745 - acc: 0.8785 - val_loss: 0.2343 - val_acc: 0.9040\n",
      "Epoch 30/30\n",
      " - 12s - loss: 0.2907 - acc: 0.8735 - val_loss: 0.2360 - val_acc: 0.9070\n"
     ]
    }
   ],
   "source": [
    "from keras.preprocessing.image import ImageDataGenerator\n",
    "from keras import optimizers\n",
    "\n",
    "train_datagen = ImageDataGenerator(\n",
    "    rescale=1./255,\n",
    "    rotation_range=40,\n",
    "    width_shift_range=0.2,\n",
    "    height_shift_range=0.2,\n",
    "    shear_range=0.2,\n",
    "    zoom_range=0.2,\n",
    "    horizontal_flip=True,\n",
    "    fill_mode='nearest')\n",
    "\n",
    "test_datagen = ImageDataGenerator(rescale=1./255)\n",
    "\n",
    "train_generator = train_datagen.flow_from_directory(\n",
    "    train_dir,\n",
    "    target_size=(150, 150),\n",
    "    batch_size=20,\n",
    "    class_mode='binary')\n",
    "\n",
    "validation_generator = test_datagen.flow_from_directory(\n",
    "    validation_dir,\n",
    "    target_size=(150, 150),\n",
    "    batch_size=20,\n",
    "    class_mode='binary')\n",
    "\n",
    "model.compile(loss='binary_crossentropy',\n",
    "             optimizer=optimizers.RMSprop(lr=2e-5),\n",
    "             metrics=['acc'])\n",
    "\n",
    "history = model.fit_generator(\n",
    "    train_generator,\n",
    "    steps_per_epoch=100,\n",
    "    epochs=30,\n",
    "    validation_data=validation_generator,\n",
    "    validation_steps=50,\n",
    "    verbose=2)"
   ]
  },
  {
   "cell_type": "markdown",
   "metadata": {},
   "source": [
    "## 5.3.2 미세 조정 "
   ]
  },
  {
   "cell_type": "markdown",
   "metadata": {},
   "source": [
    "### 5-22 특정 층까지 모든 층 동결하기 "
   ]
  },
  {
   "cell_type": "code",
   "execution_count": 12,
   "metadata": {},
   "outputs": [],
   "source": [
    "conv_base.trainable = True\n",
    "\n",
    "set_trainable = False\n",
    "for layer in conv_base.layers:\n",
    "    if layer.name == 'block5_conv1':\n",
    "        set_trainable = True\n",
    "    if set_trainable:\n",
    "        layer.trainable = True\n",
    "    else :\n",
    "        layer.trainable = False"
   ]
  },
  {
   "cell_type": "markdown",
   "metadata": {},
   "source": [
    "### 5-23 모델 미세 조정하기"
   ]
  },
  {
   "cell_type": "code",
   "execution_count": 13,
   "metadata": {},
   "outputs": [
    {
     "name": "stdout",
     "output_type": "stream",
     "text": [
      "Epoch 1/100\n",
      "100/100 [==============================] - 13s 134ms/step - loss: 0.3015 - acc: 0.8665 - val_loss: 0.2271 - val_acc: 0.9080\n",
      "Epoch 2/100\n",
      "100/100 [==============================] - 12s 120ms/step - loss: 0.2638 - acc: 0.8835 - val_loss: 0.2007 - val_acc: 0.9180\n",
      "Epoch 3/100\n",
      "100/100 [==============================] - 12s 121ms/step - loss: 0.2145 - acc: 0.9095 - val_loss: 0.2274 - val_acc: 0.9130\n",
      "Epoch 4/100\n",
      "100/100 [==============================] - 12s 121ms/step - loss: 0.2211 - acc: 0.9050 - val_loss: 0.1976 - val_acc: 0.9220\n",
      "Epoch 5/100\n",
      "100/100 [==============================] - 12s 121ms/step - loss: 0.2046 - acc: 0.9095 - val_loss: 0.1948 - val_acc: 0.9210\n",
      "Epoch 6/100\n",
      "100/100 [==============================] - 12s 123ms/step - loss: 0.1973 - acc: 0.9220 - val_loss: 0.1935 - val_acc: 0.9260\n",
      "Epoch 7/100\n",
      "100/100 [==============================] - 12s 122ms/step - loss: 0.1825 - acc: 0.9260 - val_loss: 0.1969 - val_acc: 0.9210\n",
      "Epoch 8/100\n",
      "100/100 [==============================] - 12s 122ms/step - loss: 0.1770 - acc: 0.9300 - val_loss: 0.1940 - val_acc: 0.9230\n",
      "Epoch 9/100\n",
      "100/100 [==============================] - 12s 121ms/step - loss: 0.1661 - acc: 0.9335 - val_loss: 0.1836 - val_acc: 0.9250\n",
      "Epoch 10/100\n",
      "100/100 [==============================] - 12s 120ms/step - loss: 0.1485 - acc: 0.9350 - val_loss: 0.1844 - val_acc: 0.9260\n",
      "Epoch 11/100\n",
      "100/100 [==============================] - 12s 122ms/step - loss: 0.1350 - acc: 0.9450 - val_loss: 0.1838 - val_acc: 0.9350\n",
      "Epoch 12/100\n",
      "100/100 [==============================] - 12s 122ms/step - loss: 0.1480 - acc: 0.9400 - val_loss: 0.3210 - val_acc: 0.8910\n",
      "Epoch 13/100\n",
      "100/100 [==============================] - 12s 122ms/step - loss: 0.1325 - acc: 0.9525 - val_loss: 0.2258 - val_acc: 0.9240\n",
      "Epoch 14/100\n",
      "100/100 [==============================] - 12s 121ms/step - loss: 0.1253 - acc: 0.9510 - val_loss: 0.1818 - val_acc: 0.9340\n",
      "Epoch 15/100\n",
      "100/100 [==============================] - 12s 121ms/step - loss: 0.1171 - acc: 0.9535 - val_loss: 0.1731 - val_acc: 0.9350\n",
      "Epoch 16/100\n",
      "100/100 [==============================] - 12s 122ms/step - loss: 0.1090 - acc: 0.9610 - val_loss: 0.1801 - val_acc: 0.9300\n",
      "Epoch 17/100\n",
      "100/100 [==============================] - 12s 123ms/step - loss: 0.1029 - acc: 0.9585 - val_loss: 0.2094 - val_acc: 0.9260\n",
      "Epoch 18/100\n",
      "100/100 [==============================] - 12s 120ms/step - loss: 0.1079 - acc: 0.9565 - val_loss: 0.2058 - val_acc: 0.9300\n",
      "Epoch 19/100\n",
      "100/100 [==============================] - 12s 122ms/step - loss: 0.1014 - acc: 0.9580 - val_loss: 0.1752 - val_acc: 0.9310\n",
      "Epoch 20/100\n",
      "100/100 [==============================] - 12s 123ms/step - loss: 0.1016 - acc: 0.9625 - val_loss: 0.1957 - val_acc: 0.9270\n",
      "Epoch 21/100\n",
      "100/100 [==============================] - 14s 135ms/step - loss: 0.0997 - acc: 0.9615 - val_loss: 0.2330 - val_acc: 0.9250\n",
      "Epoch 22/100\n",
      "100/100 [==============================] - 44s 436ms/step - loss: 0.0891 - acc: 0.9630 - val_loss: 0.1767 - val_acc: 0.9350\n",
      "Epoch 23/100\n",
      "100/100 [==============================] - 12s 121ms/step - loss: 0.0890 - acc: 0.9660 - val_loss: 0.1794 - val_acc: 0.9390\n",
      "Epoch 24/100\n",
      "100/100 [==============================] - 12s 123ms/step - loss: 0.0793 - acc: 0.9680 - val_loss: 0.1795 - val_acc: 0.9370\n",
      "Epoch 25/100\n",
      "100/100 [==============================] - 12s 121ms/step - loss: 0.0766 - acc: 0.9740 - val_loss: 0.2013 - val_acc: 0.9300\n",
      "Epoch 26/100\n",
      "100/100 [==============================] - 12s 122ms/step - loss: 0.0718 - acc: 0.9740 - val_loss: 0.2055 - val_acc: 0.9320\n",
      "Epoch 27/100\n",
      "100/100 [==============================] - 12s 121ms/step - loss: 0.0828 - acc: 0.9710 - val_loss: 0.1931 - val_acc: 0.9360\n",
      "Epoch 28/100\n",
      "100/100 [==============================] - 12s 122ms/step - loss: 0.0703 - acc: 0.9730 - val_loss: 0.2247 - val_acc: 0.9260\n",
      "Epoch 29/100\n",
      "100/100 [==============================] - 12s 123ms/step - loss: 0.0653 - acc: 0.9770 - val_loss: 0.1820 - val_acc: 0.9380\n",
      "Epoch 30/100\n",
      "100/100 [==============================] - 12s 121ms/step - loss: 0.0746 - acc: 0.9700 - val_loss: 0.2007 - val_acc: 0.9380\n",
      "Epoch 31/100\n",
      "100/100 [==============================] - 12s 122ms/step - loss: 0.0711 - acc: 0.9750 - val_loss: 0.1877 - val_acc: 0.9360\n",
      "Epoch 32/100\n",
      "100/100 [==============================] - 12s 122ms/step - loss: 0.0602 - acc: 0.9780 - val_loss: 0.2358 - val_acc: 0.9310\n",
      "Epoch 33/100\n",
      "100/100 [==============================] - 12s 123ms/step - loss: 0.0594 - acc: 0.9770 - val_loss: 0.2116 - val_acc: 0.9340\n",
      "Epoch 34/100\n",
      "100/100 [==============================] - 12s 122ms/step - loss: 0.0637 - acc: 0.9755 - val_loss: 0.2047 - val_acc: 0.9360\n",
      "Epoch 35/100\n",
      "100/100 [==============================] - 12s 123ms/step - loss: 0.0554 - acc: 0.9785 - val_loss: 0.2364 - val_acc: 0.9300\n",
      "Epoch 36/100\n",
      "100/100 [==============================] - 12s 122ms/step - loss: 0.0580 - acc: 0.9800 - val_loss: 0.3001 - val_acc: 0.9170\n",
      "Epoch 37/100\n",
      "100/100 [==============================] - 12s 124ms/step - loss: 0.0621 - acc: 0.9780 - val_loss: 0.2074 - val_acc: 0.9400\n",
      "Epoch 38/100\n",
      "100/100 [==============================] - 12s 123ms/step - loss: 0.0485 - acc: 0.9810 - val_loss: 0.3770 - val_acc: 0.9100\n",
      "Epoch 39/100\n",
      "100/100 [==============================] - 12s 121ms/step - loss: 0.0593 - acc: 0.9760 - val_loss: 0.1910 - val_acc: 0.9360\n",
      "Epoch 40/100\n",
      "100/100 [==============================] - 12s 120ms/step - loss: 0.0468 - acc: 0.9815 - val_loss: 0.2173 - val_acc: 0.9380\n",
      "Epoch 41/100\n",
      "100/100 [==============================] - 12s 121ms/step - loss: 0.0396 - acc: 0.9850 - val_loss: 0.2071 - val_acc: 0.9330\n",
      "Epoch 42/100\n",
      "100/100 [==============================] - 12s 121ms/step - loss: 0.0479 - acc: 0.9850 - val_loss: 0.2038 - val_acc: 0.9440\n",
      "Epoch 43/100\n",
      "100/100 [==============================] - 12s 120ms/step - loss: 0.0518 - acc: 0.9810 - val_loss: 0.2200 - val_acc: 0.9370\n",
      "Epoch 44/100\n",
      "100/100 [==============================] - 12s 122ms/step - loss: 0.0406 - acc: 0.9840 - val_loss: 0.2139 - val_acc: 0.9380\n",
      "Epoch 45/100\n",
      "100/100 [==============================] - 12s 122ms/step - loss: 0.0492 - acc: 0.9810 - val_loss: 0.2305 - val_acc: 0.9320\n",
      "Epoch 46/100\n",
      "100/100 [==============================] - 12s 122ms/step - loss: 0.0407 - acc: 0.9840 - val_loss: 0.2556 - val_acc: 0.9340\n",
      "Epoch 47/100\n",
      "100/100 [==============================] - 12s 120ms/step - loss: 0.0414 - acc: 0.9845 - val_loss: 0.2245 - val_acc: 0.9320\n",
      "Epoch 48/100\n",
      "100/100 [==============================] - 12s 123ms/step - loss: 0.0384 - acc: 0.9895 - val_loss: 0.3263 - val_acc: 0.9260\n",
      "Epoch 49/100\n",
      "100/100 [==============================] - 12s 122ms/step - loss: 0.0394 - acc: 0.9860 - val_loss: 0.2299 - val_acc: 0.9330\n",
      "Epoch 50/100\n",
      "100/100 [==============================] - 12s 122ms/step - loss: 0.0370 - acc: 0.9860 - val_loss: 0.2147 - val_acc: 0.9430\n",
      "Epoch 51/100\n",
      "100/100 [==============================] - 13s 125ms/step - loss: 0.0388 - acc: 0.9865 - val_loss: 0.2624 - val_acc: 0.9300\n",
      "Epoch 52/100\n",
      "100/100 [==============================] - 12s 122ms/step - loss: 0.0362 - acc: 0.9870 - val_loss: 0.2810 - val_acc: 0.9320\n",
      "Epoch 53/100\n",
      "100/100 [==============================] - 12s 121ms/step - loss: 0.0298 - acc: 0.9925 - val_loss: 0.2828 - val_acc: 0.9310\n",
      "Epoch 54/100\n",
      "100/100 [==============================] - 12s 122ms/step - loss: 0.0326 - acc: 0.9860 - val_loss: 0.2650 - val_acc: 0.9370\n",
      "Epoch 55/100\n",
      "100/100 [==============================] - 12s 122ms/step - loss: 0.0341 - acc: 0.9890 - val_loss: 0.2247 - val_acc: 0.9330\n",
      "Epoch 56/100\n",
      "100/100 [==============================] - 12s 122ms/step - loss: 0.0389 - acc: 0.9855 - val_loss: 0.2281 - val_acc: 0.9360\n",
      "Epoch 57/100\n",
      "100/100 [==============================] - 12s 122ms/step - loss: 0.0403 - acc: 0.9840 - val_loss: 0.2603 - val_acc: 0.9320\n",
      "Epoch 58/100\n",
      "100/100 [==============================] - 12s 122ms/step - loss: 0.0386 - acc: 0.9875 - val_loss: 0.2130 - val_acc: 0.9420\n",
      "Epoch 59/100\n",
      "100/100 [==============================] - 12s 122ms/step - loss: 0.0268 - acc: 0.9905 - val_loss: 0.2209 - val_acc: 0.9390\n",
      "Epoch 60/100\n",
      "100/100 [==============================] - 12s 121ms/step - loss: 0.0438 - acc: 0.9830 - val_loss: 0.2083 - val_acc: 0.9400\n"
     ]
    },
    {
     "name": "stdout",
     "output_type": "stream",
     "text": [
      "Epoch 61/100\n",
      "100/100 [==============================] - 12s 121ms/step - loss: 0.0417 - acc: 0.9865 - val_loss: 0.3434 - val_acc: 0.9250\n",
      "Epoch 62/100\n",
      "100/100 [==============================] - 12s 122ms/step - loss: 0.0325 - acc: 0.9885 - val_loss: 0.2204 - val_acc: 0.9370\n",
      "Epoch 63/100\n",
      "100/100 [==============================] - 12s 121ms/step - loss: 0.0309 - acc: 0.9885 - val_loss: 0.2800 - val_acc: 0.9400\n",
      "Epoch 64/100\n",
      "100/100 [==============================] - 12s 122ms/step - loss: 0.0330 - acc: 0.9865 - val_loss: 0.2367 - val_acc: 0.9370\n",
      "Epoch 65/100\n",
      "100/100 [==============================] - 12s 121ms/step - loss: 0.0307 - acc: 0.9880 - val_loss: 0.2432 - val_acc: 0.9360\n",
      "Epoch 66/100\n",
      "100/100 [==============================] - 12s 121ms/step - loss: 0.0306 - acc: 0.9890 - val_loss: 0.2113 - val_acc: 0.9410\n",
      "Epoch 67/100\n",
      "100/100 [==============================] - 12s 122ms/step - loss: 0.0271 - acc: 0.9910 - val_loss: 0.2162 - val_acc: 0.9430\n",
      "Epoch 68/100\n",
      "100/100 [==============================] - 12s 121ms/step - loss: 0.0283 - acc: 0.9895 - val_loss: 0.2723 - val_acc: 0.9340\n",
      "Epoch 69/100\n",
      "100/100 [==============================] - 12s 122ms/step - loss: 0.0279 - acc: 0.9915 - val_loss: 0.2241 - val_acc: 0.9380\n",
      "Epoch 70/100\n",
      "100/100 [==============================] - 12s 121ms/step - loss: 0.0261 - acc: 0.9910 - val_loss: 0.2234 - val_acc: 0.9460\n",
      "Epoch 71/100\n",
      "100/100 [==============================] - 12s 122ms/step - loss: 0.0320 - acc: 0.9865 - val_loss: 0.2078 - val_acc: 0.9420\n",
      "Epoch 72/100\n",
      "100/100 [==============================] - 12s 122ms/step - loss: 0.0240 - acc: 0.9920 - val_loss: 0.2855 - val_acc: 0.9350\n",
      "Epoch 73/100\n",
      "100/100 [==============================] - 12s 121ms/step - loss: 0.0250 - acc: 0.9885 - val_loss: 0.2136 - val_acc: 0.9440\n",
      "Epoch 74/100\n",
      "100/100 [==============================] - 12s 121ms/step - loss: 0.0277 - acc: 0.9900 - val_loss: 0.2573 - val_acc: 0.9380\n",
      "Epoch 75/100\n",
      "100/100 [==============================] - 12s 122ms/step - loss: 0.0265 - acc: 0.9905 - val_loss: 0.3245 - val_acc: 0.9330\n",
      "Epoch 76/100\n",
      "100/100 [==============================] - 12s 121ms/step - loss: 0.0267 - acc: 0.9905 - val_loss: 0.2314 - val_acc: 0.9420\n",
      "Epoch 77/100\n",
      "100/100 [==============================] - 12s 120ms/step - loss: 0.0278 - acc: 0.9920 - val_loss: 0.2328 - val_acc: 0.9430\n",
      "Epoch 78/100\n",
      "100/100 [==============================] - 12s 120ms/step - loss: 0.0295 - acc: 0.9900 - val_loss: 0.2579 - val_acc: 0.9420\n",
      "Epoch 79/100\n",
      "100/100 [==============================] - 12s 120ms/step - loss: 0.0223 - acc: 0.9905 - val_loss: 0.2419 - val_acc: 0.9400\n",
      "Epoch 80/100\n",
      "100/100 [==============================] - 12s 121ms/step - loss: 0.0208 - acc: 0.9925 - val_loss: 0.2246 - val_acc: 0.9420\n",
      "Epoch 81/100\n",
      "100/100 [==============================] - 12s 123ms/step - loss: 0.0278 - acc: 0.9925 - val_loss: 0.3696 - val_acc: 0.9310\n",
      "Epoch 82/100\n",
      "100/100 [==============================] - 12s 121ms/step - loss: 0.0236 - acc: 0.9905 - val_loss: 0.2713 - val_acc: 0.9380\n",
      "Epoch 83/100\n",
      "100/100 [==============================] - 12s 121ms/step - loss: 0.0210 - acc: 0.9935 - val_loss: 0.3366 - val_acc: 0.9330\n",
      "Epoch 84/100\n",
      "100/100 [==============================] - 12s 121ms/step - loss: 0.0308 - acc: 0.9890 - val_loss: 0.2235 - val_acc: 0.9420\n",
      "Epoch 85/100\n",
      "100/100 [==============================] - 12s 121ms/step - loss: 0.0229 - acc: 0.9910 - val_loss: 0.3064 - val_acc: 0.9360\n",
      "Epoch 86/100\n",
      "100/100 [==============================] - 12s 121ms/step - loss: 0.0205 - acc: 0.9940 - val_loss: 0.2785 - val_acc: 0.9350\n",
      "Epoch 87/100\n",
      "100/100 [==============================] - 12s 122ms/step - loss: 0.0220 - acc: 0.9920 - val_loss: 0.2278 - val_acc: 0.9390\n",
      "Epoch 88/100\n",
      "100/100 [==============================] - 12s 121ms/step - loss: 0.0264 - acc: 0.9905 - val_loss: 0.3623 - val_acc: 0.9260\n",
      "Epoch 89/100\n",
      "100/100 [==============================] - 12s 122ms/step - loss: 0.0223 - acc: 0.9905 - val_loss: 0.3382 - val_acc: 0.9340\n",
      "Epoch 90/100\n",
      "100/100 [==============================] - 12s 121ms/step - loss: 0.0216 - acc: 0.9925 - val_loss: 0.2741 - val_acc: 0.9410\n",
      "Epoch 91/100\n",
      "100/100 [==============================] - 12s 120ms/step - loss: 0.0182 - acc: 0.9930 - val_loss: 0.3344 - val_acc: 0.9240\n",
      "Epoch 92/100\n",
      "100/100 [==============================] - 12s 121ms/step - loss: 0.0198 - acc: 0.9910 - val_loss: 0.2578 - val_acc: 0.9440\n",
      "Epoch 93/100\n",
      "100/100 [==============================] - 12s 120ms/step - loss: 0.0154 - acc: 0.9945 - val_loss: 0.2748 - val_acc: 0.9430\n",
      "Epoch 94/100\n",
      "100/100 [==============================] - 12s 121ms/step - loss: 0.0223 - acc: 0.9905 - val_loss: 0.2781 - val_acc: 0.9370\n",
      "Epoch 95/100\n",
      "100/100 [==============================] - 12s 120ms/step - loss: 0.0177 - acc: 0.9940 - val_loss: 0.3379 - val_acc: 0.9310\n",
      "Epoch 96/100\n",
      "100/100 [==============================] - 12s 121ms/step - loss: 0.0207 - acc: 0.9920 - val_loss: 0.3181 - val_acc: 0.9370\n",
      "Epoch 97/100\n",
      "100/100 [==============================] - 12s 122ms/step - loss: 0.0189 - acc: 0.9940 - val_loss: 0.2998 - val_acc: 0.9360\n",
      "Epoch 98/100\n",
      "100/100 [==============================] - 12s 121ms/step - loss: 0.0175 - acc: 0.9935 - val_loss: 0.2401 - val_acc: 0.9450\n",
      "Epoch 99/100\n",
      "100/100 [==============================] - 12s 122ms/step - loss: 0.0160 - acc: 0.9940 - val_loss: 0.2695 - val_acc: 0.9410\n",
      "Epoch 100/100\n",
      "100/100 [==============================] - 12s 121ms/step - loss: 0.0198 - acc: 0.9925 - val_loss: 0.2647 - val_acc: 0.9400\n"
     ]
    }
   ],
   "source": [
    "model.compile(loss='binary_crossentropy',\n",
    "             optimizer=optimizers.RMSprop(lr=1e-5),\n",
    "             metrics=['acc'])\n",
    "\n",
    "history = model.fit_generator(\n",
    "    train_generator,\n",
    "    steps_per_epoch=100,\n",
    "    epochs=100,\n",
    "    validation_data=validation_generator,\n",
    "    validation_steps=50)"
   ]
  },
  {
   "cell_type": "markdown",
   "metadata": {},
   "source": [
    "### 5-24 부드러운 그래프 그리기 "
   ]
  },
  {
   "cell_type": "code",
   "execution_count": 14,
   "metadata": {},
   "outputs": [
    {
     "data": {
      "image/png": "[encoded data removed]",
      "text/plain": [
       "<Figure size 432x288 with 1 Axes>"
      ]
     },
     "metadata": {},
     "output_type": "display_data"
    },
    {
     "data": {
      "image/png": "[encoded data removed]",
      "text/plain": [
       "<Figure size 432x288 with 1 Axes>"
      ]
     },
     "metadata": {},
     "output_type": "display_data"
    }
   ],
   "source": [
    "def smooth_curve(points, factor=0.8):\n",
    "    smoothed_points = []\n",
    "    for point in points:\n",
    "        if smoothed_points:\n",
    "            previous = smoothed_points[-1]\n",
    "            smoothed_points.append(previous * factor + point * (1 - factor))\n",
    "        else :\n",
    "            smoothed_points.append(point)\n",
    "    return smoothed_points\n",
    "\n",
    "plt.plot(epochs, smooth_curve(acc), 'bo', label='Smoothed training acc')\n",
    "plt.plot(epochs, smooth_curve(val_acc), 'b', label='Smoothed validation acc')\n",
    "plt.title('Training and validation accuracy')\n",
    "plt.legend()\n",
    "\n",
    "plt.figure()\n",
    "\n",
    "plt.plot(epochs, smooth_curve(loss), 'bo', label='Smoothed training loss')\n",
    "plt.plot(epochs, smooth_curve(val_loss), 'b', label='Smoothed validation loss')\n",
    "plt.title('Training and validation loss')\n",
    "plt.legend()\n",
    "\n",
    "plt.show()"
   ]
  },
  {
   "cell_type": "code",
   "execution_count": 15,
   "metadata": {},
   "outputs": [
    {
     "name": "stdout",
     "output_type": "stream",
     "text": [
      "Found 1000 images belonging to 2 classes.\n",
      "test acc: 0.9419999885559082\n"
     ]
    }
   ],
   "source": [
    "test_generator = test_datagen.flow_from_directory(\n",
    "    test_dir,\n",
    "    target_size=(150, 150),\n",
    "    batch_size=20,\n",
    "    class_mode='binary')\n",
    "\n",
    "test_loss, test_acc = model.evaluate_generator(test_generator, steps=50)\n",
    "print('test acc:', test_acc)"
   ]
  }
 ],
 "metadata": {
  "kernelspec": {
   "display_name": "Python 3",
   "language": "python",
   "name": "python3"
  },
  "language_info": {
   "codemirror_mode": {
    "name": "ipython",
    "version": 3
   },
   "file_extension": ".py",
   "mimetype": "text/x-python",
   "name": "python",
   "nbconvert_exporter": "python",
   "pygments_lexer": "ipython3",
   "version": "3.5.5"
  }
 },
 "nbformat": 4,
 "nbformat_minor": 2
}
