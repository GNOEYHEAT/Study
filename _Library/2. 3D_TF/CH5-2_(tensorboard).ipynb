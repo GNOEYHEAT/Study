{
 "cells": [
  {
   "cell_type": "markdown",
   "metadata": {},
   "source": [
    "## CHATER 5 텐서보드와 모델 재사용"
   ]
  },
  {
   "cell_type": "markdown",
   "metadata": {},
   "source": [
    "### 5.2 텐서보드 사용하기"
   ]
  },
  {
   "cell_type": "code",
   "execution_count": 1,
   "metadata": {},
   "outputs": [],
   "source": [
    "import tensorflow as tf\n",
    "import numpy as np\n",
    "\n",
    "data = np.loadtxt('TensorFlow-Tutorials-master/05 - TensorBoard, Saver/data.csv', delimiter=',', unpack=True, dtype='float32')\n",
    "\n",
    "x_data = np.transpose(data[0:2])\n",
    "y_data = np.transpose(data[2:])\n",
    "\n",
    "global_step = tf.Variable(0, trainable=False, name='global_step')\n",
    "\n",
    "X = tf.placeholder(tf.float32)\n",
    "Y = tf.placeholder(tf.float32)"
   ]
  },
  {
   "cell_type": "code",
   "execution_count": 2,
   "metadata": {},
   "outputs": [],
   "source": [
    "with tf.name_scope('layer1'):\n",
    "    W1 = tf.Variable(tf.random_uniform([2, 10], -1., 1.), name='W1')\n",
    "    L1 = tf.nn.relu(tf.matmul(X, W1))"
   ]
  },
  {
   "cell_type": "code",
   "execution_count": 3,
   "metadata": {},
   "outputs": [],
   "source": [
    "with tf.name_scope('layer2'):\n",
    "    W2 = tf.Variable(tf.random_uniform([10, 20], -1., 1.), name='W2')\n",
    "    L2 = tf.nn.relu(tf.matmul(L1, W2))"
   ]
  },
  {
   "cell_type": "code",
   "execution_count": 4,
   "metadata": {},
   "outputs": [],
   "source": [
    "with tf.name_scope('output'):\n",
    "    W3 = tf.Variable(tf.random_uniform([20, 3], -1., 1.), name='W3')\n",
    "    model = tf.matmul(L2, W3)\n",
    "    \n",
    "with tf.name_scope('optimizer'):\n",
    "    cost = tf.reduce_mean(tf.nn.softmax_cross_entropy_with_logits_v2(labels=Y, logits=model))\n",
    "    \n",
    "    optimizer = tf.train.AdamOptimizer(learning_rate=0.01)\n",
    "    train_op = optimizer.minimize(cost, global_step=global_step)"
   ]
  },
  {
   "cell_type": "code",
   "execution_count": 5,
   "metadata": {},
   "outputs": [
    {
     "data": {
      "text/plain": [
       "<tf.Tensor 'cost:0' shape=() dtype=string>"
      ]
     },
     "execution_count": 5,
     "metadata": {},
     "output_type": "execute_result"
    }
   ],
   "source": [
    "tf.summary.scalar('cost', cost)"
   ]
  },
  {
   "cell_type": "code",
   "execution_count": 6,
   "metadata": {},
   "outputs": [
    {
     "data": {
      "text/plain": [
       "<tf.Tensor 'Weights:0' shape=() dtype=string>"
      ]
     },
     "execution_count": 6,
     "metadata": {},
     "output_type": "execute_result"
    }
   ],
   "source": [
    "tf.summary.histogram(\"Weights\", W1)"
   ]
  },
  {
   "cell_type": "code",
   "execution_count": 7,
   "metadata": {},
   "outputs": [
    {
     "name": "stdout",
     "output_type": "stream",
     "text": [
      "INFO:tensorflow:Restoring parameters from TensorFlow-Tutorials-master/05 - TensorBoard, Saver/model\\dnn.ckpt-300\n"
     ]
    }
   ],
   "source": [
    "sess = tf.Session()\n",
    "saver = tf.train.Saver(tf.global_variables())\n",
    "\n",
    "ckpt = tf.train.get_checkpoint_state('TensorFlow-Tutorials-master/05 - TensorBoard, Saver/model')\n",
    "if ckpt and tf.train.checkpoint_exists(ckpt.model_checkpoint_path):\n",
    "    saver.restore(sess, ckpt.model_checkpoint_path)\n",
    "else:\n",
    "    sess.run(tf.global_variables_initializer())"
   ]
  },
  {
   "cell_type": "code",
   "execution_count": 8,
   "metadata": {},
   "outputs": [],
   "source": [
    "merged = tf.summary.merge_all()\n",
    "writer = tf.summary.FileWriter('TensorFlow-Tutorials-master/05 - TensorBoard, Saver/logs', sess.graph)"
   ]
  },
  {
   "cell_type": "code",
   "execution_count": 9,
   "metadata": {},
   "outputs": [
    {
     "name": "stdout",
     "output_type": "stream",
     "text": [
      "Step: 301,  Cost: 0.549\n",
      "Step: 302,  Cost: 0.549\n",
      "Step: 303,  Cost: 0.549\n",
      "Step: 304,  Cost: 0.549\n",
      "Step: 305,  Cost: 0.549\n",
      "Step: 306,  Cost: 0.549\n",
      "Step: 307,  Cost: 0.549\n",
      "Step: 308,  Cost: 0.549\n",
      "Step: 309,  Cost: 0.549\n",
      "Step: 310,  Cost: 0.549\n",
      "Step: 311,  Cost: 0.549\n",
      "Step: 312,  Cost: 0.549\n",
      "Step: 313,  Cost: 0.549\n",
      "Step: 314,  Cost: 0.549\n",
      "Step: 315,  Cost: 0.549\n",
      "Step: 316,  Cost: 0.549\n",
      "Step: 317,  Cost: 0.549\n",
      "Step: 318,  Cost: 0.549\n",
      "Step: 319,  Cost: 0.549\n",
      "Step: 320,  Cost: 0.549\n",
      "Step: 321,  Cost: 0.549\n",
      "Step: 322,  Cost: 0.549\n",
      "Step: 323,  Cost: 0.549\n",
      "Step: 324,  Cost: 0.549\n",
      "Step: 325,  Cost: 0.549\n",
      "Step: 326,  Cost: 0.549\n",
      "Step: 327,  Cost: 0.549\n",
      "Step: 328,  Cost: 0.549\n",
      "Step: 329,  Cost: 0.549\n",
      "Step: 330,  Cost: 0.549\n",
      "Step: 331,  Cost: 0.549\n",
      "Step: 332,  Cost: 0.549\n",
      "Step: 333,  Cost: 0.549\n",
      "Step: 334,  Cost: 0.549\n",
      "Step: 335,  Cost: 0.549\n",
      "Step: 336,  Cost: 0.549\n",
      "Step: 337,  Cost: 0.549\n",
      "Step: 338,  Cost: 0.549\n",
      "Step: 339,  Cost: 0.549\n",
      "Step: 340,  Cost: 0.549\n",
      "Step: 341,  Cost: 0.549\n",
      "Step: 342,  Cost: 0.549\n",
      "Step: 343,  Cost: 0.549\n",
      "Step: 344,  Cost: 0.549\n",
      "Step: 345,  Cost: 0.549\n",
      "Step: 346,  Cost: 0.549\n",
      "Step: 347,  Cost: 0.549\n",
      "Step: 348,  Cost: 0.549\n",
      "Step: 349,  Cost: 0.549\n",
      "Step: 350,  Cost: 0.549\n",
      "Step: 351,  Cost: 0.549\n",
      "Step: 352,  Cost: 0.549\n",
      "Step: 353,  Cost: 0.549\n",
      "Step: 354,  Cost: 0.549\n",
      "Step: 355,  Cost: 0.549\n",
      "Step: 356,  Cost: 0.549\n",
      "Step: 357,  Cost: 0.549\n",
      "Step: 358,  Cost: 0.549\n",
      "Step: 359,  Cost: 0.549\n",
      "Step: 360,  Cost: 0.549\n",
      "Step: 361,  Cost: 0.549\n",
      "Step: 362,  Cost: 0.549\n",
      "Step: 363,  Cost: 0.549\n",
      "Step: 364,  Cost: 0.549\n",
      "Step: 365,  Cost: 0.549\n",
      "Step: 366,  Cost: 0.549\n",
      "Step: 367,  Cost: 0.549\n",
      "Step: 368,  Cost: 0.549\n",
      "Step: 369,  Cost: 0.549\n",
      "Step: 370,  Cost: 0.549\n",
      "Step: 371,  Cost: 0.549\n",
      "Step: 372,  Cost: 0.549\n",
      "Step: 373,  Cost: 0.549\n",
      "Step: 374,  Cost: 0.549\n",
      "Step: 375,  Cost: 0.549\n",
      "Step: 376,  Cost: 0.549\n",
      "Step: 377,  Cost: 0.549\n",
      "Step: 378,  Cost: 0.549\n",
      "Step: 379,  Cost: 0.549\n",
      "Step: 380,  Cost: 0.549\n",
      "Step: 381,  Cost: 0.549\n",
      "Step: 382,  Cost: 0.549\n",
      "Step: 383,  Cost: 0.549\n",
      "Step: 384,  Cost: 0.549\n",
      "Step: 385,  Cost: 0.549\n",
      "Step: 386,  Cost: 0.549\n",
      "Step: 387,  Cost: 0.549\n",
      "Step: 388,  Cost: 0.549\n",
      "Step: 389,  Cost: 0.549\n",
      "Step: 390,  Cost: 0.549\n",
      "Step: 391,  Cost: 0.549\n",
      "Step: 392,  Cost: 0.549\n",
      "Step: 393,  Cost: 0.549\n",
      "Step: 394,  Cost: 0.549\n",
      "Step: 395,  Cost: 0.549\n",
      "Step: 396,  Cost: 0.549\n",
      "Step: 397,  Cost: 0.549\n",
      "Step: 398,  Cost: 0.549\n",
      "Step: 399,  Cost: 0.549\n",
      "Step: 400,  Cost: 0.549\n"
     ]
    }
   ],
   "source": [
    "for step in range(100):\n",
    "    sess.run(train_op, feed_dict={X: x_data, Y: y_data})\n",
    "    \n",
    "    print('Step: %d, ' % sess.run(global_step), 'Cost: %.3f' % sess.run(cost,feed_dict={X: x_data, Y: y_data}))"
   ]
  },
  {
   "cell_type": "code",
   "execution_count": 10,
   "metadata": {},
   "outputs": [],
   "source": [
    "summary = sess.run(merged, feed_dict={X: x_data, Y: y_data})\n",
    "writer.add_summary(summary, global_step=sess.run(global_step))"
   ]
  },
  {
   "cell_type": "code",
   "execution_count": 11,
   "metadata": {},
   "outputs": [
    {
     "name": "stdout",
     "output_type": "stream",
     "text": [
      "예측값: [0 1 2 0 0 2]\n",
      "실제값: [0 1 2 0 0 2]\n",
      "정확도: 100.00\n"
     ]
    }
   ],
   "source": [
    "saver.save(sess, 'TensorFlow-Tutorials-master/05 - TensorBoard, Saver/model/dnn.ckpt', global_step=global_step)\n",
    "\n",
    "prediction = tf.argmax(model, 1)\n",
    "target = tf.argmax(Y, 1)\n",
    "print('예측값:', sess.run(prediction, feed_dict={X: x_data}))\n",
    "print('실제값:', sess.run(target, feed_dict={Y: y_data}))\n",
    "\n",
    "is_correct = tf.equal(prediction, target)\n",
    "accuracy = tf.reduce_mean(tf.cast(is_correct, tf.float32))\n",
    "print('정확도: %.2f' % sess.run(accuracy * 100, feed_dict={X: x_data, Y: y_data}))"
   ]
  }
 ],
 "metadata": {
  "kernelspec": {
   "display_name": "Python 3",
   "language": "python",
   "name": "python3"
  },
  "language_info": {
   "codemirror_mode": {
    "name": "ipython",
    "version": 3
   },
   "file_extension": ".py",
   "mimetype": "text/x-python",
   "name": "python",
   "nbconvert_exporter": "python",
   "pygments_lexer": "ipython3",
   "version": "3.5.5"
  }
 },
 "nbformat": 4,
 "nbformat_minor": 2
}
